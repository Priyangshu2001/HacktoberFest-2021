{
 "cells": [
  {
   "cell_type": "code",
   "execution_count": 1,
   "id": "971b5af8",
   "metadata": {},
   "outputs": [],
   "source": [
    "import json"
   ]
  },
  {
   "cell_type": "code",
   "execution_count": 2,
   "id": "dc8ce97c",
   "metadata": {},
   "outputs": [],
   "source": [
    "import ipynb"
   ]
  },
  {
   "cell_type": "code",
   "execution_count": 3,
   "id": "13a563ee",
   "metadata": {},
   "outputs": [
    {
     "name": "stderr",
     "output_type": "stream",
     "text": [
      "[nltk_data] Downloading package punkt to\n",
      "[nltk_data]     C:\\Users\\KIIT\\AppData\\Roaming\\nltk_data...\n",
      "[nltk_data]   Package punkt is already up-to-date!\n"
     ]
    }
   ],
   "source": [
    "from ipynb.fs.full.nltk_utilities import stem, tokenize, bag_of_words"
   ]
  },
  {
   "cell_type": "code",
   "execution_count": 4,
   "id": "4f14c7b3",
   "metadata": {},
   "outputs": [
    {
     "name": "stdout",
     "output_type": "stream",
     "text": [
      "{'intents': [{'tag': 'greeting', 'patterns': ['Hi there', 'How are you', 'Is anyone there?', 'Hey', 'Hola', 'Hello', 'Good day'], 'responses': ['Hello, thanks for asking', 'Good to see you again', 'Hi there, how can I help?'], 'context': ['']}, {'tag': 'goodbye', 'patterns': ['Bye', 'See you later', 'Goodbye', 'Nice chatting to you, bye', 'Till next time'], 'responses': ['See you!', 'Have a nice day', 'Bye! Come back again soon.'], 'context': ['']}, {'tag': 'thanks', 'patterns': ['Thanks', 'Thank you', \"That's helpful\", 'Awesome, thanks', 'Thanks for helping me'], 'responses': ['Happy to help!', 'Any time!', 'My pleasure'], 'context': ['']}, {'tag': 'noanswer', 'patterns': [], 'responses': [\"Sorry, can't understand you\", 'Please give me more info', 'Not sure I understand'], 'context': ['']}, {'tag': 'options', 'patterns': ['How you could help me?', 'What you can do?', 'What help you provide?', 'How you can be helpful?', 'What support is offered'], 'responses': ['I can guide you through Adverse drug reaction list, Blood pressure tracking, Hospitals and Pharmacies', 'Offering support for Adverse drug reaction, Blood pressure, Hospitals and Pharmacies'], 'context': ['']}, {'tag': 'adverse_drug', 'patterns': ['How to check Adverse drug reaction?', 'Open adverse drugs module', 'Give me a list of drugs causing adverse behavior', 'List all drugs suitable for patient with adverse reaction', 'Which drugs dont have adverse reaction?'], 'responses': ['Navigating to Adverse drug reaction module'], 'context': ['']}, {'tag': 'blood_pressure', 'patterns': ['Open blood pressure module', 'Task related to blood pressure', 'Blood pressure data entry', 'I want to log blood pressure results', 'Blood pressure data management'], 'responses': ['Navigating to Blood Pressure module'], 'context': ['']}, {'tag': 'blood_pressure_search', 'patterns': ['I want to search for blood pressure result history', 'Blood pressure for patient', 'Load patient blood pressure result', 'Show blood pressure results for patient', 'Find blood pressure results by ID'], 'responses': ['Please provide Patient ID', 'Patient ID?'], 'context': ['search_blood_pressure_by_patient_id']}, {'tag': 'search_blood_pressure_by_patient_id', 'patterns': [], 'responses': ['Loading Blood pressure result for Patient'], 'context': ['']}, {'tag': 'pharmacy_search', 'patterns': ['Find me a pharmacy', 'Find pharmacy', 'List of pharmacies nearby', 'Locate pharmacy', 'Search pharmacy'], 'responses': ['Please provide pharmacy name'], 'context': ['search_pharmacy_by_name']}, {'tag': 'search_pharmacy_by_name', 'patterns': [], 'responses': ['Loading pharmacy details'], 'context': ['']}, {'tag': 'hospital_search', 'patterns': ['Lookup for hospital', 'Searching for hospital to transfer patient', 'I want to search hospital data', 'Hospital lookup for patient', 'Looking up hospital details'], 'responses': ['Please provide hospital name or location'], 'context': ['search_hospital_by_params']}, {'tag': 'search_hospital_by_params', 'patterns': [], 'responses': ['Please provide hospital type'], 'context': ['search_hospital_by_type']}, {'tag': 'search_hospital_by_type', 'patterns': [], 'responses': ['Loading hospital details'], 'context': ['']}]}\n"
     ]
    }
   ],
   "source": [
    "with open(r'C:\\Users\\KIIT\\Desktop\\Python\\NLP\\intents.json', 'r') as f:\n",
    "    intents=json.load(f)\n",
    "print(intents)"
   ]
  },
  {
   "cell_type": "code",
   "execution_count": 5,
   "id": "b46175e6",
   "metadata": {},
   "outputs": [],
   "source": [
    "all_words=[]\n",
    "tags=[]\n",
    "xy=[]"
   ]
  },
  {
   "cell_type": "code",
   "execution_count": 6,
   "id": "372f2093",
   "metadata": {},
   "outputs": [],
   "source": [
    "for intent in intents['intents']:\n",
    "    tag=intent['tag']\n",
    "    tags.append(tag)\n",
    "    for pattern in intent['patterns']:\n",
    "        w=tokenize(pattern)\n",
    "        all_words.extend(w)\n",
    "        xy.append((w, tag))"
   ]
  },
  {
   "cell_type": "code",
   "execution_count": 7,
   "id": "37655fbe",
   "metadata": {},
   "outputs": [
    {
     "name": "stdout",
     "output_type": "stream",
     "text": [
      "['hi', 'there', 'how', 'are', 'you', 'is', 'anyon', 'there', 'hey', 'hola', 'hello', 'good', 'day', 'bye', 'see', 'you', 'later', 'goodby', 'nice', 'chat', 'to', 'you', 'bye', 'till', 'next', 'time', 'thank', 'thank', 'you', 'that', \"'s\", 'help', 'awesom', 'thank', 'thank', 'for', 'help', 'me', 'how', 'you', 'could', 'help', 'me', 'what', 'you', 'can', 'do', 'what', 'help', 'you', 'provid', 'how', 'you', 'can', 'be', 'help', 'what', 'support', 'is', 'offer', 'how', 'to', 'check', 'advers', 'drug', 'reaction', 'open', 'advers', 'drug', 'modul', 'give', 'me', 'a', 'list', 'of', 'drug', 'caus', 'advers', 'behavior', 'list', 'all', 'drug', 'suitabl', 'for', 'patient', 'with', 'advers', 'reaction', 'which', 'drug', 'dont', 'have', 'advers', 'reaction', 'open', 'blood', 'pressur', 'modul', 'task', 'relat', 'to', 'blood', 'pressur', 'blood', 'pressur', 'data', 'entri', 'i', 'want', 'to', 'log', 'blood', 'pressur', 'result', 'blood', 'pressur', 'data', 'manag', 'i', 'want', 'to', 'search', 'for', 'blood', 'pressur', 'result', 'histori', 'blood', 'pressur', 'for', 'patient', 'load', 'patient', 'blood', 'pressur', 'result', 'show', 'blood', 'pressur', 'result', 'for', 'patient', 'find', 'blood', 'pressur', 'result', 'by', 'id', 'find', 'me', 'a', 'pharmaci', 'find', 'pharmaci', 'list', 'of', 'pharmaci', 'nearbi', 'locat', 'pharmaci', 'search', 'pharmaci', 'lookup', 'for', 'hospit', 'search', 'for', 'hospit', 'to', 'transfer', 'patient', 'i', 'want', 'to', 'search', 'hospit', 'data', 'hospit', 'lookup', 'for', 'patient', 'look', 'up', 'hospit', 'detail']\n"
     ]
    }
   ],
   "source": [
    "ignore_words=['?', '.', ',', '!']\n",
    "all_words=[stem(w) for w in all_words if w not in ignore_words]\n",
    "print(all_words)"
   ]
  },
  {
   "cell_type": "code",
   "execution_count": 9,
   "id": "63587db8",
   "metadata": {},
   "outputs": [
    {
     "name": "stdout",
     "output_type": "stream",
     "text": [
      "[\"'s\", 'a', 'advers', 'all', 'anyon', 'are', 'awesom', 'be', 'behavior', 'blood', 'by', 'bye', 'can', 'caus', 'chat', 'check', 'could', 'data', 'day', 'detail', 'do', 'dont', 'drug', 'entri', 'find', 'for', 'give', 'good', 'goodby', 'have', 'hello', 'help', 'hey', 'hi', 'histori', 'hola', 'hospit', 'how', 'i', 'id', 'is', 'later', 'list', 'load', 'locat', 'log', 'look', 'lookup', 'manag', 'me', 'modul', 'nearbi', 'next', 'nice', 'of', 'offer', 'open', 'patient', 'pharmaci', 'pressur', 'provid', 'reaction', 'relat', 'result', 'search', 'see', 'show', 'suitabl', 'support', 'task', 'thank', 'that', 'there', 'till', 'time', 'to', 'transfer', 'up', 'want', 'what', 'which', 'with', 'you']\n"
     ]
    }
   ],
   "source": [
    "all_words=sorted(set(all_words))\n",
    "tags=sorted(set(tags))\n",
    "print(all_words)"
   ]
  },
  {
   "cell_type": "code",
   "execution_count": null,
   "id": "4c49362d",
   "metadata": {},
   "outputs": [],
   "source": []
  }
 ],
 "metadata": {
  "kernelspec": {
   "display_name": "Python 3 (ipykernel)",
   "language": "python",
   "name": "python3"
  },
  "language_info": {
   "codemirror_mode": {
    "name": "ipython",
    "version": 3
   },
   "file_extension": ".py",
   "mimetype": "text/x-python",
   "name": "python",
   "nbconvert_exporter": "python",
   "pygments_lexer": "ipython3",
   "version": "3.9.7"
  }
 },
 "nbformat": 4,
 "nbformat_minor": 5
}
